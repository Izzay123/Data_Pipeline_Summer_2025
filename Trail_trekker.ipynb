{
 "cells": [
  {
   "cell_type": "code",
   "execution_count": 7,
   "id": "1ddfc892",
   "metadata": {},
   "outputs": [
    {
     "name": "stdout",
     "output_type": "stream",
     "text": [
      "┌───────────────┐\n",
      "│     name      │\n",
      "│    varchar    │\n",
      "├───────────────┤\n",
      "│ customers     │\n",
      "│ features      │\n",
      "│ plan_features │\n",
      "│ plans         │\n",
      "│ subscriptions │\n",
      "└───────────────┘\n",
      "\n"
     ]
    }
   ],
   "source": [
    "import duckdb\n",
    "import pandas as pd\n",
    "\n",
    "con = duckdb.connect('trail_trekker.duckdb') # attaches/creates if doesn't exist\n",
    "con.sql(\"show tables\").show()\n"
   ]
  },
  {
   "cell_type": "code",
   "execution_count": 8,
   "id": "59fbdd4f",
   "metadata": {},
   "outputs": [
    {
     "name": "stdout",
     "output_type": "stream",
     "text": [
      "┌───────────────┐\n",
      "│     name      │\n",
      "│    varchar    │\n",
      "├───────────────┤\n",
      "│ customers     │\n",
      "│ features      │\n",
      "│ plan_features │\n",
      "│ plans         │\n",
      "│ subscriptions │\n",
      "└───────────────┘\n",
      "\n"
     ]
    }
   ],
   "source": [
    "con.sql(\"CREATE TABLE if not exists features AS SELECT * FROM 'features.csv'\")\n",
    "con.sql(\"Create table if not exists plans as select * from 'https://raw.githubusercontent.com/schottma/trail_trekker/refs/heads/main/plans.csv'\")\n",
    "con.sql(\"create table if not exists customers as select * from 'customers.csv'\")\n",
    "con.sql(\"create table if not exists plan_features as select * from 'plan_features.csv'\")\n",
    "con.sql(\"create table if not exists subscriptions as select * from 'subscriptions.csv'\")\n",
    "con.sql(\"show tables\").show()"
   ]
  },
  {
   "cell_type": "code",
   "execution_count": 9,
   "id": "1077f277",
   "metadata": {},
   "outputs": [
    {
     "name": "stdout",
     "output_type": "stream",
     "text": [
      "┌───────────────────┐\n",
      "│ count(feature_id) │\n",
      "│       int64       │\n",
      "├───────────────────┤\n",
      "│                 8 │\n",
      "└───────────────────┘\n",
      "\n"
     ]
    }
   ],
   "source": [
    "con.sql(\"SELECT count(feature_id) FROM features;\").show()"
   ]
  },
  {
   "cell_type": "code",
   "execution_count": 10,
   "id": "f990a018",
   "metadata": {},
   "outputs": [
    {
     "name": "stdout",
     "output_type": "stream",
     "text": [
      "┌─────────────────────┬─────────────┬─────────┬─────────┬─────────┬─────────┐\n",
      "│     column_name     │ column_type │  null   │   key   │ default │  extra  │\n",
      "│       varchar       │   varchar   │ varchar │ varchar │ varchar │ varchar │\n",
      "├─────────────────────┼─────────────┼─────────┼─────────┼─────────┼─────────┤\n",
      "│ feature_id          │ VARCHAR     │ YES     │ NULL    │ NULL    │ NULL    │\n",
      "│ feature_name        │ VARCHAR     │ YES     │ NULL    │ NULL    │ NULL    │\n",
      "│ feature_description │ VARCHAR     │ YES     │ NULL    │ NULL    │ NULL    │\n",
      "│ feature_category    │ VARCHAR     │ YES     │ NULL    │ NULL    │ NULL    │\n",
      "└─────────────────────┴─────────────┴─────────┴─────────┴─────────┴─────────┘\n",
      "\n"
     ]
    }
   ],
   "source": [
    "con.sql(\"describe table features\").show()"
   ]
  },
  {
   "cell_type": "code",
   "execution_count": 58,
   "id": "addc6566",
   "metadata": {},
   "outputs": [
    {
     "name": "stdout",
     "output_type": "stream",
     "text": [
      "table customers matches csv?: False\n",
      "table features matches csv?: True\n",
      "table plans matches csv?: False\n",
      "table plan_features matches csv?: True\n",
      "table subscriptions matches csv?: False\n"
     ]
    }
   ],
   "source": [
    "table_n_files = [\n",
    "    ('customers', 'customers.csv'),\n",
    "    ('features', 'features.csv'),\n",
    "    ('plans', 'https://raw.githubusercontent.com/schottma/trail_trekker/refs/heads/main/plans.csv'),\n",
    "    ('plan_features', 'plan_features.csv'),\n",
    "    ('subscriptions', 'subscriptions.csv')\n",
    "]\n",
    "\n",
    "for table, file in table_n_files:\n",
    "    dbdf = con.sql(f\"SELECT * FROM {table}\").to_df()\n",
    "    csvcheck = pd.read_csv(file)\n",
    "\n",
    "    equal = dbdf.equals(csvcheck)\n",
    "    print(f\"table {table} matches csv?: {equal}\")"
   ]
  },
  {
   "cell_type": "code",
   "execution_count": 5,
   "id": "44681d93",
   "metadata": {},
   "outputs": [
    {
     "name": "stdout",
     "output_type": "stream",
     "text": [
      "┌─────────┬──────────────┬────────────┬─────────┬─────────────────────┬──────────────────┬───────────────────────────────────────────────────────────┬────────────┐\n",
      "│ plan_id │  plan_name   │ plan_level │  price  │ max_hikes_per_month │ photo_storage_gb │                        description                        │ created_at │\n",
      "│ varchar │   varchar    │  varchar   │ varchar │       varchar       │     varchar      │                          varchar                          │  varchar   │\n",
      "├─────────┼──────────────┼────────────┼─────────┼─────────────────────┼──────────────────┼───────────────────────────────────────────────────────────┼────────────┤\n",
      "│ 000000  │ None         │ NULL       │ NULL    │ NULL                │ NULL             │ NULL                                                      │ NULL       │\n",
      "│ PLN001M │ Explorer     │ 1          │ 4.99    │ 25                  │ 1                │ Basic hiking plan with GPS tracking and limited storage   │ 2021-03-15 │\n",
      "│ PLN001A │ Explorer     │ 1          │ 49.99   │ 25                  │ 1                │ Basic hiking plan with GPS tracking and limited storage   │ 2021-03-15 │\n",
      "│ PLN002M │ Adventurer   │ 2          │ 9.99    │ 999999              │ 10               │ Enhanced plan with offline maps and premium trail guides  │ 2021-05-20 │\n",
      "│ PLN002A │ Adventurer   │ 2          │ 99.99   │ 999999              │ 10               │ Enhanced plan with offline maps and premium trail guides  │ 2021-05-20 │\n",
      "│ PLN003M │ Trail Master │ 3          │ 19.99   │ 999999              │ 50               │ Premium plan with all features including community access │ 2021-08-10 │\n",
      "│ PLN003A │ Trail Master │ 3          │ 199.99  │ 999999              │ 50               │ Premium plan with all features including community access │ 2021-08-10 │\n",
      "└─────────┴──────────────┴────────────┴─────────┴─────────────────────┴──────────────────┴───────────────────────────────────────────────────────────┴────────────┘\n",
      "\n"
     ]
    }
   ],
   "source": [
    "#run duckdb .show here\n",
    "\n",
    "con.sql(\"SELECT * FROM plans\").show()"
   ]
  },
  {
   "cell_type": "code",
   "execution_count": 42,
   "id": "a084ab59",
   "metadata": {},
   "outputs": [
    {
     "data": {
      "text/plain": [
       "plan_id                 object\n",
       "plan_name               object\n",
       "plan_level             float64\n",
       "price                  float64\n",
       "max_hikes_per_month    float64\n",
       "photo_storage_gb       float64\n",
       "description             object\n",
       "created_at              object\n",
       "dtype: object"
      ]
     },
     "execution_count": 42,
     "metadata": {},
     "output_type": "execute_result"
    }
   ],
   "source": [
    "#pick up your csvs to check here\n",
    "\n",
    "df = pd.read_csv('https://raw.githubusercontent.com/schottma/trail_trekker/refs/heads/main/plans.csv')\n",
    "# df.head(5)\n",
    "df.dtypes\n"
   ]
  }
 ],
 "metadata": {
  "kernelspec": {
   "display_name": "Python 3",
   "language": "python",
   "name": "python3"
  },
  "language_info": {
   "codemirror_mode": {
    "name": "ipython",
    "version": 3
   },
   "file_extension": ".py",
   "mimetype": "text/x-python",
   "name": "python",
   "nbconvert_exporter": "python",
   "pygments_lexer": "ipython3",
   "version": "3.13.5"
  }
 },
 "nbformat": 4,
 "nbformat_minor": 5
}
